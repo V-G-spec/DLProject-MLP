{
 "cells": [
  {
   "cell_type": "code",
   "execution_count": 7,
   "metadata": {},
   "outputs": [],
   "source": [
    "# Set your working directory\n",
    "import os\n",
    "os.chdir('/Users/charleslego/my_documents/ETH/Classes/Sem3/Deep_learning/Project/src')\n",
    "\n",
    "import h5py\n",
    "import torch\n",
    "from tqdm import tqdm\n",
    "from data_utils.data_stats import *\n",
    "from utils.metrics import topk_acc, real_acc, AverageMeter\n",
    "from models.networks import get_model\n",
    "from CNN_models.vgg import vgg13_bn\n",
    "from torchvision import datasets, transforms"
   ]
  },
  {
   "cell_type": "markdown",
   "metadata": {},
   "source": [
    "Load VGG"
   ]
  },
  {
   "cell_type": "code",
   "execution_count": 4,
   "metadata": {},
   "outputs": [
    {
     "data": {
      "text/plain": [
       "<All keys matched successfully>"
      ]
     },
     "execution_count": 4,
     "metadata": {},
     "output_type": "execute_result"
    }
   ],
   "source": [
    "torch.backends.cuda.matmul.allow_tf32 = True\n",
    "device = torch.device(\"cuda:0\" if torch.cuda.is_available() else \"cpu\")\n",
    "vgg = vgg13_bn(pretrained=True)\n",
    "state_dict = os.path.join(\n",
    "                \"CNN_models\", \"state_dicts\", \"vgg13_bn\" + \".pt\"\n",
    "            )\n",
    "vgg.load_state_dict(torch.load(state_dict))"
   ]
  },
  {
   "cell_type": "markdown",
   "metadata": {},
   "source": [
    "Attach hook to \"harvest\" last-layer activations"
   ]
  },
  {
   "cell_type": "code",
   "execution_count": 8,
   "metadata": {},
   "outputs": [],
   "source": [
    "acts_vgg = {}\n",
    "\n",
    "def hook_vgg(module, input, output):\n",
    "    assert output.shape[1] == 4096\n",
    "    acts_vgg['act'] = (output.clone().detach().numpy())\n",
    "\n",
    "hook_vgg = vgg._modules['classifier'][4].register_forward_hook(hook_vgg)"
   ]
  },
  {
   "cell_type": "markdown",
   "metadata": {},
   "source": [
    "Get the data loader"
   ]
  },
  {
   "cell_type": "code",
   "execution_count": 18,
   "metadata": {},
   "outputs": [
    {
     "name": "stdout",
     "output_type": "stream",
     "text": [
      "Files already downloaded and verified\n"
     ]
    }
   ],
   "source": [
    "transform = transforms.Compose([\n",
    "    transforms.ToTensor(),\n",
    "    transforms.Resize(32),\n",
    "    transforms.Normalize((0.4914, 0.4822, 0.4465), (0.2471, 0.2435, 0.2616)),\n",
    "])\n",
    "\n",
    "test_dataset = datasets.CIFAR10(root='./data', train=False, download=True, transform = transform)\n",
    "loader = torch.utils.data.DataLoader(test_dataset, batch_size=100, shuffle=False, num_workers=2)"
   ]
  },
  {
   "cell_type": "markdown",
   "metadata": {},
   "source": [
    "\"Harvest\" the activations"
   ]
  },
  {
   "cell_type": "code",
   "execution_count": 20,
   "metadata": {},
   "outputs": [],
   "source": [
    "# Define a test function that evaluates test accuracy\n",
    "all_acts_vgg = []\n",
    "\n",
    "@torch.no_grad()\n",
    "def test(model_vgg, loader):\n",
    "    model_vgg.eval()\n",
    "    total_acc_vgg, total_top5_vgg = AverageMeter(), AverageMeter()\n",
    "    downsample = torch.nn.MaxPool2d(2)\n",
    "\n",
    "    for ims, targs in tqdm(loader, desc=\"Evaluation\"):\n",
    "        preds_vgg = model_vgg(ims)\n",
    "        all_acts_vgg.append(acts_vgg['act'])\n",
    "\n",
    "        acc_vgg, top5_vgg = topk_acc(preds_vgg, targs, k=5, avg=True)\n",
    "\n",
    "        total_acc_vgg.update(acc_vgg, ims.shape[0])\n",
    "        total_top5_vgg.update(top5_vgg, ims.shape[0])\n",
    "\n",
    "    return (\n",
    "        total_acc_vgg.get_avg(percentage=True),\n",
    "        total_top5_vgg.get_avg(percentage=True)\n",
    "    )"
   ]
  },
  {
   "cell_type": "code",
   "execution_count": 21,
   "metadata": {},
   "outputs": [
    {
     "name": "stderr",
     "output_type": "stream",
     "text": [
      "Evaluation:   0%|          | 0/100 [00:00<?, ?it/s]"
     ]
    },
    {
     "name": "stderr",
     "output_type": "stream",
     "text": [
      "Evaluation: 100%|██████████| 100/100 [01:55<00:00,  1.16s/it]"
     ]
    },
    {
     "name": "stdout",
     "output_type": "stream",
     "text": [
      "Test Accuracy VGG:       94.2100\n",
      "Top 5 Test Accuracy VGG:       99.7400\n"
     ]
    },
    {
     "name": "stderr",
     "output_type": "stream",
     "text": [
      "\n"
     ]
    }
   ],
   "source": [
    "test_acc_vgg, test_top5_vgg = test(vgg, loader)\n",
    "hook_vgg.remove()\n",
    "\n",
    "# Print all the stats\n",
    "print(\"Test Accuracy VGG:      \", \"{:.4f}\".format(test_acc_vgg))\n",
    "print(\"Top 5 Test Accuracy VGG:      \", \"{:.4f}\".format(test_top5_vgg))"
   ]
  },
  {
   "cell_type": "markdown",
   "metadata": {},
   "source": [
    "Save the collected activations to disk"
   ]
  },
  {
   "cell_type": "code",
   "execution_count": 24,
   "metadata": {},
   "outputs": [],
   "source": [
    "acts_vgg_np = np.concatenate(all_acts_vgg, axis=0)\n",
    "dataset = 'cifar10'\n",
    "with h5py.File('acts_VGG13_bn_' + dataset + '_test.h5', 'w') as hf:\n",
    "    hf.create_dataset('activations', data=acts_vgg_np)"
   ]
  }
 ],
 "metadata": {
  "kernelspec": {
   "display_name": "ffcv",
   "language": "python",
   "name": "python3"
  },
  "language_info": {
   "codemirror_mode": {
    "name": "ipython",
    "version": 3
   },
   "file_extension": ".py",
   "mimetype": "text/x-python",
   "name": "python",
   "nbconvert_exporter": "python",
   "pygments_lexer": "ipython3",
   "version": "3.9.18"
  },
  "orig_nbformat": 4
 },
 "nbformat": 4,
 "nbformat_minor": 2
}
