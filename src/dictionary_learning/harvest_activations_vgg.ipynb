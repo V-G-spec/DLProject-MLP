{
 "cells": [
  {
   "cell_type": "code",
   "execution_count": null,
   "metadata": {},
   "outputs": [],
   "source": [
    "import os\n",
    "import h5py\n",
    "import torch\n",
    "from tqdm import tqdm\n",
    "\n",
    "from data_utils.data_stats import *\n",
    "from data_utils.dataloader import get_loader\n",
    "from utils.metrics import topk_acc, real_acc, AverageMeter\n",
    "from models.networks import get_model\n",
    "from data_utils.dataset_to_beton import get_dataset\n",
    "from PyTorch_CIFAR10.cifar10_models.vgg import vgg13_bn"
   ]
  },
  {
   "cell_type": "markdown",
   "metadata": {},
   "source": [
    "Dataset specifications"
   ]
  },
  {
   "cell_type": "code",
   "execution_count": null,
   "metadata": {},
   "outputs": [],
   "source": [
    "dataset = 'cifar10'                 # One of cifar10, cifar100, stl10, imagenet or imagenet21\n",
    "data_resolution = 32                # Resolution of data as it is stored\n",
    "crop_resolution = 64                # Resolution of fine-tuned model (64 for all models we provide)\n",
    "data_path = './beton/'\n",
    "eval_batch_size = 100"
   ]
  },
  {
   "cell_type": "markdown",
   "metadata": {},
   "source": [
    "Load VGG"
   ]
  },
  {
   "cell_type": "code",
   "execution_count": null,
   "metadata": {},
   "outputs": [],
   "source": [
    "torch.backends.cuda.matmul.allow_tf32 = True\n",
    "device = torch.device(\"cuda:0\" if torch.cuda.is_available() else \"cpu\")\n",
    "vgg = vgg13_bn(pretrained=True)\n",
    "state_dict = os.path.join(\n",
    "                \"PyTorch_CIFAR10\", \"cifar10_models\", \"state_dicts\", \"vgg13_bn\" + \".pt\"\n",
    "            )\n",
    "vgg.load_state_dict(torch.load(state_dict))"
   ]
  },
  {
   "cell_type": "markdown",
   "metadata": {},
   "source": [
    "Attach hook to \"harvest\" last-layer activations"
   ]
  },
  {
   "cell_type": "code",
   "execution_count": null,
   "metadata": {},
   "outputs": [],
   "source": [
    "acts_vgg = {}\n",
    "\n",
    "def hook_vgg(module, input, output):\n",
    "    assert output.shape[1] == 4096\n",
    "    acts_vgg['act'] = (output.clone().detach().numpy())\n",
    "\n",
    "hook_mlp = mlp.blocks[-1].register_forward_hook(hook_mlp)\n",
    "hook_vgg = vgg._modules['classifier'][4].register_forward_hook(hook_vgg)"
   ]
  },
  {
   "cell_type": "markdown",
   "metadata": {},
   "source": [
    "Get the data loader"
   ]
  },
  {
   "cell_type": "code",
   "execution_count": null,
   "metadata": {},
   "outputs": [],
   "source": [
    "loader = get_loader(\n",
    "    dataset,\n",
    "    bs=eval_batch_size,\n",
    "    mode=\"test\",\n",
    "    augment=False,\n",
    "    dev=device,\n",
    "    mixup=0.0,\n",
    "    data_path=data_path,\n",
    "    data_resolution=data_resolution,\n",
    "    crop_resolution=crop_resolution,\n",
    ")"
   ]
  },
  {
   "cell_type": "markdown",
   "metadata": {},
   "source": [
    "\"Harvest\" the activations"
   ]
  },
  {
   "cell_type": "code",
   "execution_count": null,
   "metadata": {},
   "outputs": [],
   "source": [
    "# Define a test function that evaluates test accuracy\n",
    "all_acts_vgg = []\n",
    "\n",
    "@torch.no_grad()\n",
    "def test(model_vgg, loader):\n",
    "    model_vgg.eval()\n",
    "    total_acc_vgg, total_top5_vgg = AverageMeter(), AverageMeter()\n",
    "    downsample = torch.nn.MaxPool2d(2)\n",
    "\n",
    "    for ims, targs in tqdm(loader, desc=\"Evaluation\"):\n",
    "        ims_small = downsample(ims).detach()\n",
    "        preds_vgg = model_vgg(ims_small)\n",
    "\n",
    "        images.append(ims_small.clone().detach())\n",
    "        targets.append(targs.clone().detach())\n",
    "        all_acts_vgg.append(acts_vgg['act'])\n",
    "\n",
    "        acc_vgg, top5_vgg = topk_acc(preds_vgg, targs, k=5, avg=True)\n",
    "        top5_vgg = 0\n",
    "\n",
    "        total_acc_vgg.update(acc_vgg, ims.shape[0])\n",
    "        total_top5_vgg.update(top5_vgg, ims.shape[0])\n",
    "\n",
    "    return (\n",
    "        total_acc_vgg.get_avg(percentage=True),\n",
    "        total_top5_vgg.get_avg(percentage=True)\n",
    "    )"
   ]
  },
  {
   "cell_type": "code",
   "execution_count": null,
   "metadata": {},
   "outputs": [],
   "source": [
    "test_acc_vgg, test_top5_vgg = test(vgg, loader)\n",
    "hook_vgg.remove()\n",
    "\n",
    "# Print all the stats\n",
    "print(\"Test Accuracy VGG:      \", \"{:.4f}\".format(test_acc_vgg))\n",
    "print(\"Top 5 Test Accuracy VGG:      \", \"{:.4f}\".format(test_top5_vgg))"
   ]
  },
  {
   "cell_type": "markdown",
   "metadata": {},
   "source": [
    "Save the collected activations to disk"
   ]
  },
  {
   "cell_type": "code",
   "execution_count": null,
   "metadata": {},
   "outputs": [],
   "source": [
    "acts_vgg_np = np.concatenate(all_acts_vgg, axis=0)\n",
    "\n",
    "with h5py.File('acts_VGG13_bn_' + dataset + '_test.h5', 'w') as hf:\n",
    "    hf.create_dataset('activations', data=acts_vgg_np)"
   ]
  }
 ],
 "metadata": {
  "kernelspec": {
   "display_name": "ffcv",
   "language": "python",
   "name": "python3"
  },
  "language_info": {
   "codemirror_mode": {
    "name": "ipython",
    "version": 3
   },
   "file_extension": ".py",
   "mimetype": "text/x-python",
   "name": "python",
   "nbconvert_exporter": "python",
   "pygments_lexer": "ipython3",
   "version": "3.9.18"
  },
  "orig_nbformat": 4
 },
 "nbformat": 4,
 "nbformat_minor": 2
}
