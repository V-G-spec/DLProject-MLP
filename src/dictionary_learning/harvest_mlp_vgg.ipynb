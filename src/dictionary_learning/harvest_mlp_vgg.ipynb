{
 "cells": [
  {
   "cell_type": "code",
   "execution_count": 1,
   "metadata": {},
   "outputs": [],
   "source": [
    "import os\n",
    "import h5py\n",
    "import torch\n",
    "from tqdm import tqdm\n",
    "\n",
    "from data_utils.data_stats import *\n",
    "from data_utils.dataloader import get_loader\n",
    "from utils.metrics import topk_acc, real_acc, AverageMeter\n",
    "from models.networks import get_model\n",
    "from data_utils.dataset_to_beton import get_dataset\n",
    "from PyTorch_CIFAR10.cifar10_models.vgg import vgg13_bn"
   ]
  },
  {
   "cell_type": "code",
   "execution_count": 2,
   "metadata": {},
   "outputs": [],
   "source": [
    "dataset = 'cifar10'                 # One of cifar10, cifar100, stl10, imagenet or imagenet21\n",
    "architecture = 'B_12-Wi_1024'\n",
    "data_resolution = 32                # Resolution of data as it is stored\n",
    "crop_resolution = 64                # Resolution of fine-tuned model (64 for all models we provide)\n",
    "num_classes = CLASS_DICT[dataset]\n",
    "data_path = './beton/'\n",
    "eval_batch_size = 100\n",
    "checkpoint = 'in21k_cifar10'        # This means you want the network pre-trained on ImageNet21k and finetuned on CIFAR10"
   ]
  },
  {
   "cell_type": "code",
   "execution_count": 3,
   "metadata": {},
   "outputs": [
    {
     "name": "stdout",
     "output_type": "stream",
     "text": [
      "Weights already downloaded\n",
      "Load_state output <All keys matched successfully>\n"
     ]
    },
    {
     "data": {
      "text/plain": [
       "<All keys matched successfully>"
      ]
     },
     "execution_count": 3,
     "metadata": {},
     "output_type": "execute_result"
    }
   ],
   "source": [
    "torch.backends.cuda.matmul.allow_tf32 = True\n",
    "device = torch.device(\"cuda:0\" if torch.cuda.is_available() else \"cpu\")\n",
    "\n",
    "# Define the model and specify the pre-trained weights\n",
    "mlp = get_model(architecture=architecture, resolution=crop_resolution, num_classes=CLASS_DICT[dataset],\n",
    "                  checkpoint='in21k_cifar10')\n",
    "#model.cuda()\n",
    "vgg = vgg13_bn(pretrained=True)\n",
    "state_dict = os.path.join(\n",
    "                \"PyTorch_CIFAR10\", \"cifar10_models\", \"state_dicts\", \"vgg13_bn\" + \".pt\"\n",
    "            )\n",
    "vgg.load_state_dict(torch.load(state_dict))"
   ]
  },
  {
   "cell_type": "code",
   "execution_count": 4,
   "metadata": {},
   "outputs": [],
   "source": [
    "acts_mlp = {}\n",
    "acts_vgg = {}\n",
    "\n",
    "def hook_mlp(module, input, output):\n",
    "    assert output.shape[1] == 1024\n",
    "    acts_mlp['act'] = (output.clone().detach().numpy())\n",
    "\n",
    "def hook_vgg(module, input, output):\n",
    "    assert output.shape[1] == 4096\n",
    "    acts_vgg['act'] = (output.clone().detach().numpy())\n",
    "\n",
    "hook_mlp = mlp.blocks[-1].register_forward_hook(hook_mlp)\n",
    "hook_vgg = vgg._modules['classifier'][4].register_forward_hook(hook_vgg)"
   ]
  },
  {
   "cell_type": "code",
   "execution_count": 5,
   "metadata": {},
   "outputs": [
    {
     "name": "stdout",
     "output_type": "stream",
     "text": [
      "Loading ./beton/cifar10/train/train_32.beton\n"
     ]
    }
   ],
   "source": [
    "# Get the train loader\n",
    "loader = get_loader(\n",
    "    dataset,\n",
    "    bs=eval_batch_size,\n",
    "    mode=\"test\",\n",
    "    augment=False,\n",
    "    dev=device,\n",
    "    mixup=0.0,\n",
    "    data_path=data_path,\n",
    "    data_resolution=data_resolution,\n",
    "    crop_resolution=crop_resolution,\n",
    ")"
   ]
  },
  {
   "cell_type": "code",
   "execution_count": 6,
   "metadata": {},
   "outputs": [],
   "source": [
    "# Define a test function that evaluates test accuracy\n",
    "images = []\n",
    "targets = []\n",
    "all_acts_mlp = []\n",
    "all_acts_vgg = []\n",
    "\n",
    "@torch.no_grad()\n",
    "def test(model_mlp, model_vgg, loader):\n",
    "    model_mlp.eval()\n",
    "    model_vgg.eval()\n",
    "    total_acc_mlp, total_top5_mlp = AverageMeter(), AverageMeter()\n",
    "    total_acc_vgg, total_top5_vgg = AverageMeter(), AverageMeter()\n",
    "    downsample = torch.nn.MaxPool2d(2)\n",
    "\n",
    "    for ims, targs in tqdm(loader, desc=\"Evaluation\"):\n",
    "        ims_flat = torch.reshape(ims, (ims.shape[0], -1))\n",
    "        ims_small = downsample(ims).detach()\n",
    "        preds_mlp = model_mlp(ims_flat)\n",
    "        preds_vgg = model_vgg(ims_small)\n",
    "\n",
    "        images.append(ims_small.clone().detach())\n",
    "        targets.append(targs.clone().detach())\n",
    "        all_acts_mlp.append(acts_mlp['act'])\n",
    "        all_acts_vgg.append(acts_vgg['act'])\n",
    "\n",
    "        # if dataset != 'imagenet_real':\n",
    "        acc_mlp, top5_mlp = topk_acc(preds_mlp, targs, k=5, avg=True)\n",
    "        acc_vgg, top5_vgg = topk_acc(preds_vgg, targs, k=5, avg=True)\n",
    "        # else:\n",
    "        acc_mlp = real_acc(preds_mlp, targs, k=5, avg=True)\n",
    "        acc_vgg = real_acc(preds_vgg, targs, k=5, avg=True)\n",
    "        top5_mlp = 0\n",
    "        top5_vgg = 0\n",
    "\n",
    "        total_acc_mlp.update(acc_mlp, ims_flat.shape[0])\n",
    "        total_top5_mlp.update(top5_mlp, ims_flat.shape[0])\n",
    "        total_acc_vgg.update(acc_vgg, ims.shape[0])\n",
    "        total_top5_vgg.update(top5_vgg, ims.shape[0])\n",
    "\n",
    "    return (\n",
    "        total_acc_mlp.get_avg(percentage=True),\n",
    "        total_top5_mlp.get_avg(percentage=True),\n",
    "        total_acc_vgg.get_avg(percentage=True),\n",
    "        total_top5_vgg.get_avg(percentage=True)\n",
    "    )"
   ]
  },
  {
   "cell_type": "code",
   "execution_count": 7,
   "metadata": {},
   "outputs": [
    {
     "name": "stderr",
     "output_type": "stream",
     "text": [
      "Evaluation:   0%|          | 0/500 [00:00<?, ?it/s]"
     ]
    },
    {
     "name": "stderr",
     "output_type": "stream",
     "text": [
      "Evaluation: 100%|██████████| 500/500 [09:25<00:00,  1.13s/it]"
     ]
    },
    {
     "name": "stdout",
     "output_type": "stream",
     "text": [
      "Train Accuracy MLP:       100.0000 ,      VGG:       100.0000\n",
      "Top 5 Train Accuracy MLP: 0.0000 ,      VGG:       0.0000\n"
     ]
    },
    {
     "name": "stderr",
     "output_type": "stream",
     "text": [
      "\n"
     ]
    }
   ],
   "source": [
    "test_acc_mlp, test_top5_mlp, test_acc_vgg, test_top5_vgg = test(mlp, vgg, loader)\n",
    "hook_mlp.remove()\n",
    "hook_vgg.remove()\n",
    "\n",
    "# Print all the stats\n",
    "print(\"Test Accuracy MLP:      \", \"{:.4f}\".format(test_acc_mlp), \",      VGG:      \", \"{:.4f}\".format(test_acc_vgg))\n",
    "print(\"Top 5 Test Accuracy MLP:\", \"{:.4f}\".format(test_top5_mlp), \",      VGG:      \", \"{:.4f}\".format(test_top5_vgg))"
   ]
  },
  {
   "cell_type": "code",
   "execution_count": 9,
   "metadata": {},
   "outputs": [
    {
     "ename": "",
     "evalue": "",
     "output_type": "error",
     "traceback": [
      "\u001b[1;31mThe Kernel crashed while executing code in the the current cell or a previous cell. Please review the code in the cell(s) to identify a possible cause of the failure. Click <a href='https://aka.ms/vscodeJupyterKernelCrash'>here</a> for more info. View Jupyter <a href='command:jupyter.viewOutput'>log</a> for further details."
     ]
    }
   ],
   "source": [
    "acts_mlp_np = np.concatenate(all_acts_mlp, axis=0)\n",
    "acts_vgg_np = np.concatenate(all_acts_vgg, axis=0)\n",
    "images_np = np.concatenate(images, axis=0)\n",
    "targets_np = np.concatenate(targets, axis=0)\n",
    "with h5py.File('acts_' + architecture + '_' + dataset + '_test.h5', 'w') as hf:\n",
    "    hf.create_dataset('activations', data=acts_mlp_np)\n",
    "\n",
    "with h5py.File('acts_VGG13_bn_' + dataset + '_test.h5', 'w') as hf:\n",
    "    hf.create_dataset('activations', data=acts_vgg_np)\n",
    "\n",
    "with h5py.File('ims_' + dataset + '_test.h5', 'w') as hf:\n",
    "    hf.create_dataset('images', data=images_np)\n",
    "\n",
    "with h5py.File('targs_' + dataset + '_test.h5', 'w') as hf:\n",
    "    hf.create_dataset('targets', data=targets_np)"
   ]
  }
 ],
 "metadata": {
  "kernelspec": {
   "display_name": "ffcv",
   "language": "python",
   "name": "python3"
  },
  "language_info": {
   "codemirror_mode": {
    "name": "ipython",
    "version": 3
   },
   "file_extension": ".py",
   "mimetype": "text/x-python",
   "name": "python",
   "nbconvert_exporter": "python",
   "pygments_lexer": "ipython3",
   "version": "3.9.18"
  },
  "orig_nbformat": 4
 },
 "nbformat": 4,
 "nbformat_minor": 2
}
