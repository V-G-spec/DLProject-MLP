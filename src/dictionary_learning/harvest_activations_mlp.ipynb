{
 "cells": [
  {
   "cell_type": "code",
   "execution_count": null,
   "metadata": {},
   "outputs": [],
   "source": [
    "import os\n",
    "import h5py\n",
    "import torch\n",
    "from tqdm import tqdm\n",
    "from data_utils.data_stats import *\n",
    "from data_utils.dataloader import get_loader\n",
    "from utils.metrics import topk_acc, real_acc, AverageMeter\n",
    "from models.networks import get_model\n",
    "from data_utils.dataset_to_beton import get_dataset\n",
    "_ = torch.manual_seed(0)"
   ]
  },
  {
   "cell_type": "markdown",
   "metadata": {},
   "source": [
    "Load MLP"
   ]
  },
  {
   "cell_type": "code",
   "execution_count": null,
   "metadata": {},
   "outputs": [],
   "source": [
    "dataset = 'cifar10'                 # One of cifar10, cifar100, stl10, imagenet or imagenet21\n",
    "architecture = 'B_12-Wi_1024'\n",
    "data_resolution = 32                # Resolution of data as it is stored\n",
    "crop_resolution = 64                # Resolution of fine-tuned model (64 for all models we provide)\n",
    "num_classes = CLASS_DICT[dataset]\n",
    "data_path = './beton/'\n",
    "eval_batch_size = 100\n",
    "checkpoint = 'in21k_cifar10'        # This means you want the network pre-trained on ImageNet21k and finetuned on CIFAR10"
   ]
  },
  {
   "cell_type": "code",
   "execution_count": null,
   "metadata": {},
   "outputs": [],
   "source": [
    "torch.backends.cuda.matmul.allow_tf32 = True\n",
    "device = torch.device(\"cuda:0\" if torch.cuda.is_available() else \"cpu\")\n",
    "\n",
    "# Define the model and specify the pre-trained weights\n",
    "mlp = get_model(architecture=architecture, resolution=crop_resolution, num_classes=CLASS_DICT[dataset],\n",
    "                  checkpoint='in21k_cifar10')"
   ]
  },
  {
   "cell_type": "markdown",
   "metadata": {},
   "source": [
    "Attach hook to \"harvest\" last-layer activations"
   ]
  },
  {
   "cell_type": "code",
   "execution_count": null,
   "metadata": {},
   "outputs": [],
   "source": [
    "acts_mlp = {}\n",
    "\n",
    "def hook_mlp(module, input, output):\n",
    "    assert input[0].shape[1] == 1024\n",
    "    acts_mlp['act'] = (input[0].clone().detach().numpy())\n",
    "\n",
    "hook_mlp = mlp.linear_out.register_forward_hook(hook_mlp)"
   ]
  },
  {
   "cell_type": "markdown",
   "metadata": {},
   "source": [
    "Get the train loader"
   ]
  },
  {
   "cell_type": "code",
   "execution_count": null,
   "metadata": {},
   "outputs": [],
   "source": [
    "loader = get_loader(\n",
    "    dataset,\n",
    "    bs=eval_batch_size,\n",
    "    mode=\"test\",\n",
    "    augment=False,\n",
    "    dev=device,\n",
    "    mixup=0.0,\n",
    "    data_path=data_path,\n",
    "    data_resolution=data_resolution,\n",
    "    crop_resolution=crop_resolution,\n",
    ")"
   ]
  },
  {
   "cell_type": "markdown",
   "metadata": {},
   "source": [
    "\"Harvest\" the activations"
   ]
  },
  {
   "cell_type": "code",
   "execution_count": null,
   "metadata": {},
   "outputs": [],
   "source": [
    "all_acts_mlp = []\n",
    "\n",
    "@torch.no_grad()\n",
    "def test(model_mlp, loader):\n",
    "    model_mlp.eval()\n",
    "    total_acc_mlp, total_top5_mlp = AverageMeter(), AverageMeter()\n",
    "\n",
    "    for ims, targs in tqdm(loader, desc=\"Evaluation\"):\n",
    "        ims_flat = torch.reshape(ims, (ims.shape[0], -1))\n",
    "        preds_mlp = model_mlp(ims_flat)\n",
    "        all_acts_mlp.append(acts_mlp['act'])\n",
    "\n",
    "        if dataset != 'imagenet_real':\n",
    "            acc_mlp, top5_mlp = topk_acc(preds_mlp, targs, k=5, avg=True)\n",
    "        else:\n",
    "            acc_mlp = real_acc(preds_mlp, targs, k=5, avg=True)\n",
    "            top5_mlp = 0\n",
    "\n",
    "        total_acc_mlp.update(acc_mlp, ims_flat.shape[0])\n",
    "        total_top5_mlp.update(top5_mlp, ims_flat.shape[0])\n",
    "\n",
    "    return (\n",
    "        total_acc_mlp.get_avg(percentage=True),\n",
    "        total_top5_mlp.get_avg(percentage=True),\n",
    "    )"
   ]
  },
  {
   "cell_type": "code",
   "execution_count": null,
   "metadata": {},
   "outputs": [],
   "source": [
    "test_acc_mlp, test_top5_mlp = test(mlp, loader)\n",
    "hook_mlp.remove()\n",
    "\n",
    "# Print all the stats\n",
    "print(\"Test Accuracy MLP:      \", \"{:.4f}\".format(train_acc_mlp))\n",
    "print(\"Top 5 Train Accuracy MLP:\", \"{d:.4f}\".format(train_top5_mlp))"
   ]
  },
  {
   "cell_type": "markdown",
   "metadata": {},
   "source": [
    "Save the collected activations to disk"
   ]
  },
  {
   "cell_type": "code",
   "execution_count": null,
   "metadata": {},
   "outputs": [],
   "source": [
    "del mlp\n",
    "acts_mlp_np = np.concatenate(all_acts_mlp, axis=0)\n",
    "\n",
    "with h5py.File('acts_' + architecture + '_' + dataset + '_test_postskip.h5', 'w') as hf:\n",
    "    hf.create_dataset('activations', data=acts_mlp_np)"
   ]
  }
 ],
 "metadata": {
  "kernelspec": {
   "display_name": "ffcv",
   "language": "python",
   "name": "python3"
  },
  "language_info": {
   "codemirror_mode": {
    "name": "ipython",
    "version": 3
   },
   "file_extension": ".py",
   "mimetype": "text/x-python",
   "name": "python",
   "nbconvert_exporter": "python",
   "pygments_lexer": "ipython3",
   "version": "3.9.18"
  },
  "orig_nbformat": 4
 },
 "nbformat": 4,
 "nbformat_minor": 2
}
