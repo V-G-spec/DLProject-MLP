{
 "cells": [
  {
   "cell_type": "code",
   "execution_count": null,
   "metadata": {},
   "outputs": [],
   "source": [
    "import torch\n",
    "import numpy as np\n",
    "import matplotlib.pyplot as plt"
   ]
  },
  {
   "cell_type": "code",
   "execution_count": null,
   "metadata": {},
   "outputs": [],
   "source": [
    "# Function that takes an array an normalizes its content to be within the range 0-1\n",
    "def norm_01(array):\n",
    "    return(array-np.min(array))/(np.max(array)-np.min(array))\n",
    "\n",
    "# Function that takes in an input batch (with only 1 element) and displays it as an image\n",
    "def show_im(batch):\n",
    "    img = batch.reshape(3,64,64).permute(1,2,0)\n",
    "    img_np = img.detach().numpy()\n",
    "    plt.imshow(norm_01(img_np))\n",
    "file_path = './Act_Max_Img_MLP/class_9_ker_7_startss_0.1_startsig_0.1_epoch_499.pt'\n",
    "img = torch.load(file_path)\n",
    "show_im(img)"
   ]
  }
 ],
 "metadata": {
  "language_info": {
   "name": "python"
  }
 },
 "nbformat": 4,
 "nbformat_minor": 2
}
