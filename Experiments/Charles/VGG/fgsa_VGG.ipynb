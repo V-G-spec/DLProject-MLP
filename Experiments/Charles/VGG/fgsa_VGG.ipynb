{
 "cells": [
  {
   "cell_type": "code",
   "execution_count": 2,
   "metadata": {},
   "outputs": [
    {
     "name": "stderr",
     "output_type": "stream",
     "text": [
      "/Users/charleslego/opt/anaconda3/envs/DL_env/lib/python3.11/site-packages/tqdm/auto.py:21: TqdmWarning: IProgress not found. Please update jupyter and ipywidgets. See https://ipywidgets.readthedocs.io/en/stable/user_install.html\n",
      "  from .autonotebook import tqdm as notebook_tqdm\n"
     ]
    },
    {
     "name": "stdout",
     "output_type": "stream",
     "text": [
      "Files already downloaded and verified\n"
     ]
    },
    {
     "data": {
      "text/plain": [
       "VGG(\n",
       "  (features): Sequential(\n",
       "    (0): Conv2d(3, 64, kernel_size=(3, 3), stride=(1, 1), padding=(1, 1))\n",
       "    (1): BatchNorm2d(64, eps=1e-05, momentum=0.1, affine=True, track_running_stats=True)\n",
       "    (2): ReLU(inplace=True)\n",
       "    (3): Conv2d(64, 64, kernel_size=(3, 3), stride=(1, 1), padding=(1, 1))\n",
       "    (4): BatchNorm2d(64, eps=1e-05, momentum=0.1, affine=True, track_running_stats=True)\n",
       "    (5): ReLU(inplace=True)\n",
       "    (6): MaxPool2d(kernel_size=2, stride=2, padding=0, dilation=1, ceil_mode=False)\n",
       "    (7): Conv2d(64, 128, kernel_size=(3, 3), stride=(1, 1), padding=(1, 1))\n",
       "    (8): BatchNorm2d(128, eps=1e-05, momentum=0.1, affine=True, track_running_stats=True)\n",
       "    (9): ReLU(inplace=True)\n",
       "    (10): Conv2d(128, 128, kernel_size=(3, 3), stride=(1, 1), padding=(1, 1))\n",
       "    (11): BatchNorm2d(128, eps=1e-05, momentum=0.1, affine=True, track_running_stats=True)\n",
       "    (12): ReLU(inplace=True)\n",
       "    (13): MaxPool2d(kernel_size=2, stride=2, padding=0, dilation=1, ceil_mode=False)\n",
       "    (14): Conv2d(128, 256, kernel_size=(3, 3), stride=(1, 1), padding=(1, 1))\n",
       "    (15): BatchNorm2d(256, eps=1e-05, momentum=0.1, affine=True, track_running_stats=True)\n",
       "    (16): ReLU(inplace=True)\n",
       "    (17): Conv2d(256, 256, kernel_size=(3, 3), stride=(1, 1), padding=(1, 1))\n",
       "    (18): BatchNorm2d(256, eps=1e-05, momentum=0.1, affine=True, track_running_stats=True)\n",
       "    (19): ReLU(inplace=True)\n",
       "    (20): MaxPool2d(kernel_size=2, stride=2, padding=0, dilation=1, ceil_mode=False)\n",
       "    (21): Conv2d(256, 512, kernel_size=(3, 3), stride=(1, 1), padding=(1, 1))\n",
       "    (22): BatchNorm2d(512, eps=1e-05, momentum=0.1, affine=True, track_running_stats=True)\n",
       "    (23): ReLU(inplace=True)\n",
       "    (24): Conv2d(512, 512, kernel_size=(3, 3), stride=(1, 1), padding=(1, 1))\n",
       "    (25): BatchNorm2d(512, eps=1e-05, momentum=0.1, affine=True, track_running_stats=True)\n",
       "    (26): ReLU(inplace=True)\n",
       "    (27): MaxPool2d(kernel_size=2, stride=2, padding=0, dilation=1, ceil_mode=False)\n",
       "    (28): Conv2d(512, 512, kernel_size=(3, 3), stride=(1, 1), padding=(1, 1))\n",
       "    (29): BatchNorm2d(512, eps=1e-05, momentum=0.1, affine=True, track_running_stats=True)\n",
       "    (30): ReLU(inplace=True)\n",
       "    (31): Conv2d(512, 512, kernel_size=(3, 3), stride=(1, 1), padding=(1, 1))\n",
       "    (32): BatchNorm2d(512, eps=1e-05, momentum=0.1, affine=True, track_running_stats=True)\n",
       "    (33): ReLU(inplace=True)\n",
       "    (34): MaxPool2d(kernel_size=2, stride=2, padding=0, dilation=1, ceil_mode=False)\n",
       "  )\n",
       "  (avgpool): AdaptiveAvgPool2d(output_size=(1, 1))\n",
       "  (classifier): Sequential(\n",
       "    (0): Linear(in_features=512, out_features=4096, bias=True)\n",
       "    (1): ReLU(inplace=True)\n",
       "    (2): Dropout(p=0.5, inplace=False)\n",
       "    (3): Linear(in_features=4096, out_features=4096, bias=True)\n",
       "    (4): ReLU(inplace=True)\n",
       "    (5): Dropout(p=0.5, inplace=False)\n",
       "    (6): Linear(in_features=4096, out_features=10, bias=True)\n",
       "  )\n",
       ")"
      ]
     },
     "execution_count": 2,
     "metadata": {},
     "output_type": "execute_result"
    }
   ],
   "source": [
    "import torch\n",
    "import torchvision.transforms as transforms\n",
    "import torchvision.datasets as datasets\n",
    "from vgg_models.vgg import vgg13_bn\n",
    "import torch.nn.functional as F\n",
    "import matplotlib.pyplot as plt\n",
    "\n",
    "# Set device to GPU if available, otherwise use CPU\n",
    "device = torch.device(\"cuda\" if torch.cuda.is_available() else \"cpu\")\n",
    "\n",
    "# ---------- Load the CIFAR-10 test dataset -------------\n",
    "\n",
    "normalize = transforms.Normalize((0.4914, 0.4822, 0.4465), (0.2471, 0.2435, 0.2616))\n",
    "\n",
    "test_dataset = datasets.CIFAR10(root='./data', train=False, download=True, transform=None)\n",
    "\n",
    "\n",
    "# ------------- Load the pretrained model ------------\n",
    "model = vgg13_bn(pretrained=True)\n",
    "model = model.to(device)\n",
    "model.eval()"
   ]
  },
  {
   "cell_type": "code",
   "execution_count": 3,
   "metadata": {},
   "outputs": [],
   "source": [
    "idx = 1\n",
    "x = test_dataset[idx][0] # label: Ship (8)\n",
    "x = transforms.ToTensor()(x)\n",
    "label = test_dataset[idx][1]\n",
    "\n"
   ]
  },
  {
   "cell_type": "code",
   "execution_count": 6,
   "metadata": {},
   "outputs": [
    {
     "name": "stdout",
     "output_type": "stream",
     "text": [
      "tensor([[[-0.0078,  0.0078, -0.0078,  ...,  0.0078,  0.0078,  0.0078],\n",
      "         [ 0.0078, -0.0078, -0.0078,  ...,  0.0078, -0.0078,  0.0078],\n",
      "         [-0.0078,  0.0078, -0.0078,  ..., -0.0078,  0.0078, -0.0078],\n",
      "         ...,\n",
      "         [-0.0078,  0.0078, -0.0078,  ..., -0.0078,  0.0078,  0.0078],\n",
      "         [ 0.0078,  0.0078, -0.0078,  ..., -0.0078, -0.0078,  0.0078],\n",
      "         [ 0.0078,  0.0078, -0.0078,  ...,  0.0078,  0.0078,  0.0078]],\n",
      "\n",
      "        [[-0.0078,  0.0078,  0.0078,  ...,  0.0078,  0.0078,  0.0078],\n",
      "         [ 0.0078, -0.0078,  0.0078,  ...,  0.0078, -0.0078,  0.0078],\n",
      "         [-0.0078,  0.0078,  0.0078,  ..., -0.0078, -0.0078, -0.0078],\n",
      "         ...,\n",
      "         [-0.0078,  0.0078,  0.0078,  ..., -0.0078, -0.0078, -0.0078],\n",
      "         [-0.0078,  0.0078,  0.0078,  ..., -0.0078, -0.0078,  0.0078],\n",
      "         [-0.0078,  0.0078, -0.0078,  ...,  0.0078,  0.0078, -0.0078]],\n",
      "\n",
      "        [[-0.0078, -0.0078,  0.0078,  ...,  0.0078,  0.0078,  0.0078],\n",
      "         [ 0.0078, -0.0078,  0.0078,  ...,  0.0078, -0.0078,  0.0078],\n",
      "         [-0.0078,  0.0078,  0.0078,  ..., -0.0078,  0.0078,  0.0078],\n",
      "         ...,\n",
      "         [-0.0078,  0.0078, -0.0078,  ...,  0.0078, -0.0078, -0.0078],\n",
      "         [-0.0078, -0.0078, -0.0078,  ...,  0.0078, -0.0078, -0.0078],\n",
      "         [-0.0078,  0.0078, -0.0078,  ...,  0.0078,  0.0078, -0.0078]]])\n",
      "tensor([[[0.9216, 0.9059, 0.9098,  ..., 0.9137, 0.9137, 0.9098],\n",
      "         [0.9333, 0.9216, 0.9216,  ..., 0.9255, 0.9255, 0.9216],\n",
      "         [0.9294, 0.9176, 0.9176,  ..., 0.9216, 0.9216, 0.9176],\n",
      "         ...,\n",
      "         [0.3412, 0.1686, 0.0745,  ..., 0.6627, 0.7137, 0.7373],\n",
      "         [0.3216, 0.1804, 0.1412,  ..., 0.6824, 0.7255, 0.7333],\n",
      "         [0.3333, 0.2431, 0.2275,  ..., 0.6588, 0.7059, 0.7294]],\n",
      "\n",
      "        [[0.9216, 0.9059, 0.9098,  ..., 0.9137, 0.9137, 0.9098],\n",
      "         [0.9333, 0.9216, 0.9216,  ..., 0.9255, 0.9255, 0.9216],\n",
      "         [0.9294, 0.9176, 0.9176,  ..., 0.9216, 0.9216, 0.9176],\n",
      "         ...,\n",
      "         [0.3882, 0.2000, 0.0902,  ..., 0.7216, 0.7725, 0.7922],\n",
      "         [0.3765, 0.2235, 0.1725,  ..., 0.7412, 0.7843, 0.7922],\n",
      "         [0.3961, 0.2941, 0.2627,  ..., 0.7176, 0.7647, 0.7843]],\n",
      "\n",
      "        [[0.9216, 0.9059, 0.9098,  ..., 0.9137, 0.9137, 0.9098],\n",
      "         [0.9333, 0.9216, 0.9216,  ..., 0.9255, 0.9255, 0.9216],\n",
      "         [0.9294, 0.9176, 0.9176,  ..., 0.9216, 0.9216, 0.9176],\n",
      "         ...,\n",
      "         [0.3490, 0.1451, 0.0431,  ..., 0.7020, 0.7569, 0.7882],\n",
      "         [0.3216, 0.1412, 0.0863,  ..., 0.7176, 0.7686, 0.7843],\n",
      "         [0.3255, 0.1882, 0.1490,  ..., 0.6980, 0.7490, 0.7804]]],\n",
      "       requires_grad=True)\n",
      "tensor([[[0.9137, 0.9137, 0.9020,  ..., 0.9216, 0.9216, 0.9176],\n",
      "         [0.9412, 0.9137, 0.9137,  ..., 0.9333, 0.9176, 0.9294],\n",
      "         [0.9216, 0.9255, 0.9098,  ..., 0.9137, 0.9294, 0.9098],\n",
      "         ...,\n",
      "         [0.3333, 0.1765, 0.0667,  ..., 0.6549, 0.7216, 0.7451],\n",
      "         [0.3294, 0.1882, 0.1333,  ..., 0.6745, 0.7176, 0.7412],\n",
      "         [0.3412, 0.2510, 0.2196,  ..., 0.6667, 0.7137, 0.7373]],\n",
      "\n",
      "        [[0.9137, 0.9137, 0.9176,  ..., 0.9216, 0.9216, 0.9176],\n",
      "         [0.9412, 0.9137, 0.9294,  ..., 0.9333, 0.9176, 0.9294],\n",
      "         [0.9216, 0.9255, 0.9255,  ..., 0.9137, 0.9137, 0.9098],\n",
      "         ...,\n",
      "         [0.3804, 0.2078, 0.0980,  ..., 0.7137, 0.7647, 0.7843],\n",
      "         [0.3686, 0.2314, 0.1804,  ..., 0.7333, 0.7765, 0.8000],\n",
      "         [0.3882, 0.3020, 0.2549,  ..., 0.7255, 0.7725, 0.7765]],\n",
      "\n",
      "        [[0.9137, 0.8980, 0.9176,  ..., 0.9216, 0.9216, 0.9176],\n",
      "         [0.9412, 0.9137, 0.9294,  ..., 0.9333, 0.9176, 0.9294],\n",
      "         [0.9216, 0.9255, 0.9255,  ..., 0.9137, 0.9294, 0.9255],\n",
      "         ...,\n",
      "         [0.3412, 0.1529, 0.0353,  ..., 0.7098, 0.7490, 0.7804],\n",
      "         [0.3137, 0.1333, 0.0784,  ..., 0.7255, 0.7608, 0.7765],\n",
      "         [0.3176, 0.1961, 0.1412,  ..., 0.7059, 0.7569, 0.7725]]])\n",
      "The image is a Car\n"
     ]
    }
   ],
   "source": [
    "labels = ['Airplane', 'Car', 'Bird', 'Cat', 'Deer', 'Dog', 'Frog', 'Horse', 'Ship', 'Truck']\n",
    "\n",
    "eps_pga = 2/255   # Perturbation size\n",
    "eps_sign = eps_pga\n",
    "\n",
    "# Create a copy of the image, but with gradient activated\n",
    "x_with_grad = x.clone().detach().requires_grad_(True)\n",
    "# Calculate logits\n",
    "logits_sign = model(normalize(x_with_grad).unsqueeze(0))\n",
    "# Calculate the loss\n",
    "loss_sign = F.cross_entropy(logits_sign, torch.tensor(label).unsqueeze(0))\n",
    "# Calculate the loss w.r.t to the input\n",
    "loss_sign.backward()\n",
    "# Create adversarial perturbation 'in one step' with sign of the gradient\n",
    "r_sign = eps_pga * torch.sign(x_with_grad.grad.data)\n",
    "# Create the adversarial example\n",
    "x_adv_sign = x + r_sign\n",
    "\n",
    "# Normalize the adversarial image\n",
    "x_adv_sign_norm = normalize(x_adv_sign)\n",
    "# Calculate the adversarial logits\n",
    "logits_adv_sign = model(x_adv_sign_norm.unsqueeze(0))\n",
    "# Get the 'hard' prediction for the adversarial example\n",
    "pred_adv_sign = torch.argmax(logits_adv_sign)\n",
    "\n",
    "print('The image is a', labels[pred_adv_sign])"
   ]
  },
  {
   "cell_type": "code",
   "execution_count": 42,
   "metadata": {},
   "outputs": [
    {
     "name": "stderr",
     "output_type": "stream",
     "text": [
      "Clipping input data to the valid range for imshow with RGB data ([0..1] for floats or [0..255] for integers).\n"
     ]
    },
    {
     "data": {
      "text/plain": [
       "<matplotlib.image.AxesImage at 0x12aa50510>"
      ]
     },
     "execution_count": 42,
     "metadata": {},
     "output_type": "execute_result"
    },
    {
     "data": {
      "image/png": "[encoded data removed]",
      "text/plain": [
       "<Figure size 1800x1800 with 3 Axes>"
      ]
     },
     "metadata": {},
     "output_type": "display_data"
    }
   ],
   "source": [
    "def clamp_to_img(x):\n",
    "  return torch.clamp(x, min=0., max=1.)\n",
    "\n",
    "plt.rcParams['figure.figsize'] = [18, 18]\n",
    "fig, axs = plt.subplots(1, 3)\n",
    "# Plot the adversarial example\n",
    "axs[0].imshow(clamp_to_img(x_adv_sign).reshape(3,32,32).detach().numpy().transpose(1,2,0))\n",
    "# Plot the original example\n",
    "axs[1].imshow(clamp_to_img(x).reshape(3,32,32).numpy().transpose(1,2,0))\n",
    "# Plot the scaled version of the perturbation\n",
    "axs[2].imshow(r_sign.reshape(3,32,32).detach().numpy().transpose(1,2,0)/eps_sign)"
   ]
  },
  {
   "cell_type": "code",
   "execution_count": 44,
   "metadata": {},
   "outputs": [],
   "source": [
    "output = r_sign.detach()\n",
    "\n",
    "output_filename = f'adversarial_example_index_{idx}.pt'\n",
    "torch.save(output, output_filename)"
   ]
  }
 ],
 "metadata": {
  "kernelspec": {
   "display_name": "DL_env",
   "language": "python",
   "name": "python3"
  },
  "language_info": {
   "codemirror_mode": {
    "name": "ipython",
    "version": 3
   },
   "file_extension": ".py",
   "mimetype": "text/x-python",
   "name": "python",
   "nbconvert_exporter": "python",
   "pygments_lexer": "ipython3",
   "version": "3.11.6"
  }
 },
 "nbformat": 4,
 "nbformat_minor": 2
}
